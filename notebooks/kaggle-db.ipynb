{
 "cells": [
  {
   "cell_type": "code",
   "execution_count": 1,
   "id": "dcce061e",
   "metadata": {
    "_execution_state": "idle",
    "_uuid": "051d70d956493feee0c6d64651c6a088724dca2a",
    "execution": {
     "iopub.execute_input": "2023-12-28T07:16:40.835075Z",
     "iopub.status.busy": "2023-12-28T07:16:40.832118Z",
     "iopub.status.idle": "2023-12-28T07:16:42.136952Z",
     "shell.execute_reply": "2023-12-28T07:16:42.134930Z"
    },
    "papermill": {
     "duration": 1.313948,
     "end_time": "2023-12-28T07:16:42.139653",
     "exception": false,
     "start_time": "2023-12-28T07:16:40.825705",
     "status": "completed"
    },
    "tags": []
   },
   "outputs": [
    {
     "name": "stderr",
     "output_type": "stream",
     "text": [
      "── \u001b[1mAttaching core tidyverse packages\u001b[22m ──────────────────────── tidyverse 2.0.0 ──\n",
      "\u001b[32m✔\u001b[39m \u001b[34mdplyr    \u001b[39m 1.1.4     \u001b[32m✔\u001b[39m \u001b[34mreadr    \u001b[39m 2.1.4\n",
      "\u001b[32m✔\u001b[39m \u001b[34mforcats  \u001b[39m 1.0.0     \u001b[32m✔\u001b[39m \u001b[34mstringr  \u001b[39m 1.5.1\n",
      "\u001b[32m✔\u001b[39m \u001b[34mggplot2  \u001b[39m 3.4.4     \u001b[32m✔\u001b[39m \u001b[34mtibble   \u001b[39m 3.2.1\n",
      "\u001b[32m✔\u001b[39m \u001b[34mlubridate\u001b[39m 1.9.3     \u001b[32m✔\u001b[39m \u001b[34mtidyr    \u001b[39m 1.3.0\n",
      "\u001b[32m✔\u001b[39m \u001b[34mpurrr    \u001b[39m 1.0.2     \n",
      "── \u001b[1mConflicts\u001b[22m ────────────────────────────────────────── tidyverse_conflicts() ──\n",
      "\u001b[31m✖\u001b[39m \u001b[34mdplyr\u001b[39m::\u001b[32mfilter()\u001b[39m masks \u001b[34mstats\u001b[39m::filter()\n",
      "\u001b[31m✖\u001b[39m \u001b[34mdplyr\u001b[39m::\u001b[32mlag()\u001b[39m    masks \u001b[34mstats\u001b[39m::lag()\n",
      "\u001b[36mℹ\u001b[39m Use the conflicted package (\u001b[3m\u001b[34m<http://conflicted.r-lib.org/>\u001b[39m\u001b[23m) to force all conflicts to become errors\n"
     ]
    },
    {
     "data": {
      "text/html": [
       "'nfl-big-data-bowl-2024'"
      ],
      "text/latex": [
       "'nfl-big-data-bowl-2024'"
      ],
      "text/markdown": [
       "'nfl-big-data-bowl-2024'"
      ],
      "text/plain": [
       "[1] \"nfl-big-data-bowl-2024\""
      ]
     },
     "metadata": {},
     "output_type": "display_data"
    }
   ],
   "source": [
    "# This R environment comes with many helpful analytics packages installed\n",
    "# It is defined by the kaggle/rstats Docker image: https://github.com/kaggle/docker-rstats\n",
    "# For example, here's a helpful package to load\n",
    "\n",
    "library(tidyverse) # metapackage of all tidyverse packages\n",
    "\n",
    "# Input data files are available in the read-only \"../input/\" directory\n",
    "# For example, running this (by clicking run or pressing Shift+Enter) will list all files under the input directory\n",
    "\n",
    "list.files(path = \"../input\")\n",
    "\n",
    "# You can write up to 20GB to the current directory (/kaggle/working/) that gets preserved as output when you create a version using \"Save & Run All\" \n",
    "# You can also write temporary files to /kaggle/temp/, but they won't be saved outside of the current session"
   ]
  },
  {
   "cell_type": "code",
   "execution_count": 2,
   "id": "21d46e10",
   "metadata": {
    "execution": {
     "iopub.execute_input": "2023-12-28T07:16:42.183228Z",
     "iopub.status.busy": "2023-12-28T07:16:42.148970Z",
     "iopub.status.idle": "2023-12-28T07:16:42.425831Z",
     "shell.execute_reply": "2023-12-28T07:16:42.423851Z"
    },
    "papermill": {
     "duration": 0.285769,
     "end_time": "2023-12-28T07:16:42.428938",
     "exception": false,
     "start_time": "2023-12-28T07:16:42.143169",
     "status": "completed"
    },
    "tags": []
   },
   "outputs": [],
   "source": [
    "library(DBI)\n",
    "library(duckdb)"
   ]
  },
  {
   "cell_type": "code",
   "execution_count": 3,
   "id": "165d9816",
   "metadata": {
    "execution": {
     "iopub.execute_input": "2023-12-28T07:16:42.439835Z",
     "iopub.status.busy": "2023-12-28T07:16:42.438180Z",
     "iopub.status.idle": "2023-12-28T07:20:37.324122Z",
     "shell.execute_reply": "2023-12-28T07:20:37.322065Z"
    },
    "papermill": {
     "duration": 234.895342,
     "end_time": "2023-12-28T07:20:37.327674",
     "exception": false,
     "start_time": "2023-12-28T07:16:42.432332",
     "status": "completed"
    },
    "tags": []
   },
   "outputs": [
    {
     "name": "stderr",
     "output_type": "stream",
     "text": [
      "/kaggle/input/nfl-big-data-bowl-2024/tracking_week_1.csv\n",
      "\n",
      "\u001b[1mRows: \u001b[22m\u001b[34m1407439\u001b[39m \u001b[1mColumns: \u001b[22m\u001b[34m17\u001b[39m\n",
      "\u001b[36m──\u001b[39m \u001b[1mColumn specification\u001b[22m \u001b[36m────────────────────────────────────────────────────────\u001b[39m\n",
      "\u001b[1mDelimiter:\u001b[22m \",\"\n",
      "\u001b[31mchr\u001b[39m   (4): displayName, club, playDirection, event\n",
      "\u001b[32mdbl\u001b[39m  (12): gameId, playId, nflId, frameId, jerseyNumber, x, y, s, a, dis, o,...\n",
      "\u001b[34mdttm\u001b[39m  (1): time\n",
      "\n",
      "\u001b[36mℹ\u001b[39m Use `spec()` to retrieve the full column specification for this data.\n",
      "\u001b[36mℹ\u001b[39m Specify the column types or set `show_col_types = FALSE` to quiet this message.\n",
      "/kaggle/input/nfl-big-data-bowl-2024/tracking_week_2.csv\n",
      "\n",
      "\u001b[1mRows: \u001b[22m\u001b[34m1371600\u001b[39m \u001b[1mColumns: \u001b[22m\u001b[34m17\u001b[39m\n",
      "\u001b[36m──\u001b[39m \u001b[1mColumn specification\u001b[22m \u001b[36m────────────────────────────────────────────────────────\u001b[39m\n",
      "\u001b[1mDelimiter:\u001b[22m \",\"\n",
      "\u001b[31mchr\u001b[39m   (4): displayName, club, playDirection, event\n",
      "\u001b[32mdbl\u001b[39m  (12): gameId, playId, nflId, frameId, jerseyNumber, x, y, s, a, dis, o,...\n",
      "\u001b[34mdttm\u001b[39m  (1): time\n",
      "\n",
      "\u001b[36mℹ\u001b[39m Use `spec()` to retrieve the full column specification for this data.\n",
      "\u001b[36mℹ\u001b[39m Specify the column types or set `show_col_types = FALSE` to quiet this message.\n",
      "/kaggle/input/nfl-big-data-bowl-2024/tracking_week_3.csv\n",
      "\n",
      "\u001b[1mRows: \u001b[22m\u001b[34m1415788\u001b[39m \u001b[1mColumns: \u001b[22m\u001b[34m17\u001b[39m\n",
      "\u001b[36m──\u001b[39m \u001b[1mColumn specification\u001b[22m \u001b[36m────────────────────────────────────────────────────────\u001b[39m\n",
      "\u001b[1mDelimiter:\u001b[22m \",\"\n",
      "\u001b[31mchr\u001b[39m   (4): displayName, club, playDirection, event\n",
      "\u001b[32mdbl\u001b[39m  (12): gameId, playId, nflId, frameId, jerseyNumber, x, y, s, a, dis, o,...\n",
      "\u001b[34mdttm\u001b[39m  (1): time\n",
      "\n",
      "\u001b[36mℹ\u001b[39m Use `spec()` to retrieve the full column specification for this data.\n",
      "\u001b[36mℹ\u001b[39m Specify the column types or set `show_col_types = FALSE` to quiet this message.\n",
      "/kaggle/input/nfl-big-data-bowl-2024/tracking_week_4.csv\n",
      "\n",
      "\u001b[1mRows: \u001b[22m\u001b[34m1418686\u001b[39m \u001b[1mColumns: \u001b[22m\u001b[34m17\u001b[39m\n",
      "\u001b[36m──\u001b[39m \u001b[1mColumn specification\u001b[22m \u001b[36m────────────────────────────────────────────────────────\u001b[39m\n",
      "\u001b[1mDelimiter:\u001b[22m \",\"\n",
      "\u001b[31mchr\u001b[39m   (4): displayName, club, playDirection, event\n",
      "\u001b[32mdbl\u001b[39m  (12): gameId, playId, nflId, frameId, jerseyNumber, x, y, s, a, dis, o,...\n",
      "\u001b[34mdttm\u001b[39m  (1): time\n",
      "\n",
      "\u001b[36mℹ\u001b[39m Use `spec()` to retrieve the full column specification for this data.\n",
      "\u001b[36mℹ\u001b[39m Specify the column types or set `show_col_types = FALSE` to quiet this message.\n",
      "/kaggle/input/nfl-big-data-bowl-2024/tracking_week_5.csv\n",
      "\n",
      "\u001b[1mRows: \u001b[22m\u001b[34m1476232\u001b[39m \u001b[1mColumns: \u001b[22m\u001b[34m17\u001b[39m\n",
      "\u001b[36m──\u001b[39m \u001b[1mColumn specification\u001b[22m \u001b[36m────────────────────────────────────────────────────────\u001b[39m\n",
      "\u001b[1mDelimiter:\u001b[22m \",\"\n",
      "\u001b[31mchr\u001b[39m   (4): displayName, club, playDirection, event\n",
      "\u001b[32mdbl\u001b[39m  (12): gameId, playId, nflId, frameId, jerseyNumber, x, y, s, a, dis, o,...\n",
      "\u001b[34mdttm\u001b[39m  (1): time\n",
      "\n",
      "\u001b[36mℹ\u001b[39m Use `spec()` to retrieve the full column specification for this data.\n",
      "\u001b[36mℹ\u001b[39m Specify the column types or set `show_col_types = FALSE` to quiet this message.\n",
      "/kaggle/input/nfl-big-data-bowl-2024/tracking_week_6.csv\n",
      "\n",
      "\u001b[1mRows: \u001b[22m\u001b[34m1249365\u001b[39m \u001b[1mColumns: \u001b[22m\u001b[34m17\u001b[39m\n",
      "\u001b[36m──\u001b[39m \u001b[1mColumn specification\u001b[22m \u001b[36m────────────────────────────────────────────────────────\u001b[39m\n",
      "\u001b[1mDelimiter:\u001b[22m \",\"\n",
      "\u001b[31mchr\u001b[39m   (4): displayName, club, playDirection, event\n",
      "\u001b[32mdbl\u001b[39m  (12): gameId, playId, nflId, frameId, jerseyNumber, x, y, s, a, dis, o,...\n",
      "\u001b[34mdttm\u001b[39m  (1): time\n",
      "\n",
      "\u001b[36mℹ\u001b[39m Use `spec()` to retrieve the full column specification for this data.\n",
      "\u001b[36mℹ\u001b[39m Specify the column types or set `show_col_types = FALSE` to quiet this message.\n",
      "/kaggle/input/nfl-big-data-bowl-2024/tracking_week_7.csv\n",
      "\n",
      "\u001b[1mRows: \u001b[22m\u001b[34m1291493\u001b[39m \u001b[1mColumns: \u001b[22m\u001b[34m17\u001b[39m\n",
      "\u001b[36m──\u001b[39m \u001b[1mColumn specification\u001b[22m \u001b[36m────────────────────────────────────────────────────────\u001b[39m\n",
      "\u001b[1mDelimiter:\u001b[22m \",\"\n",
      "\u001b[31mchr\u001b[39m   (4): displayName, club, playDirection, event\n",
      "\u001b[32mdbl\u001b[39m  (12): gameId, playId, nflId, frameId, jerseyNumber, x, y, s, a, dis, o,...\n",
      "\u001b[34mdttm\u001b[39m  (1): time\n",
      "\n",
      "\u001b[36mℹ\u001b[39m Use `spec()` to retrieve the full column specification for this data.\n",
      "\u001b[36mℹ\u001b[39m Specify the column types or set `show_col_types = FALSE` to quiet this message.\n",
      "/kaggle/input/nfl-big-data-bowl-2024/tracking_week_8.csv\n",
      "\n",
      "\u001b[1mRows: \u001b[22m\u001b[34m1406772\u001b[39m \u001b[1mColumns: \u001b[22m\u001b[34m17\u001b[39m\n",
      "\u001b[36m──\u001b[39m \u001b[1mColumn specification\u001b[22m \u001b[36m────────────────────────────────────────────────────────\u001b[39m\n",
      "\u001b[1mDelimiter:\u001b[22m \",\"\n",
      "\u001b[31mchr\u001b[39m   (4): displayName, club, playDirection, event\n",
      "\u001b[32mdbl\u001b[39m  (12): gameId, playId, nflId, frameId, jerseyNumber, x, y, s, a, dis, o,...\n",
      "\u001b[34mdttm\u001b[39m  (1): time\n",
      "\n",
      "\u001b[36mℹ\u001b[39m Use `spec()` to retrieve the full column specification for this data.\n",
      "\u001b[36mℹ\u001b[39m Specify the column types or set `show_col_types = FALSE` to quiet this message.\n",
      "/kaggle/input/nfl-big-data-bowl-2024/tracking_week_9.csv\n",
      "\n",
      "\u001b[1mRows: \u001b[22m\u001b[34m1150023\u001b[39m \u001b[1mColumns: \u001b[22m\u001b[34m17\u001b[39m\n",
      "\u001b[36m──\u001b[39m \u001b[1mColumn specification\u001b[22m \u001b[36m────────────────────────────────────────────────────────\u001b[39m\n",
      "\u001b[1mDelimiter:\u001b[22m \",\"\n",
      "\u001b[31mchr\u001b[39m   (4): displayName, club, playDirection, event\n",
      "\u001b[32mdbl\u001b[39m  (12): gameId, playId, nflId, frameId, jerseyNumber, x, y, s, a, dis, o,...\n",
      "\u001b[34mdttm\u001b[39m  (1): time\n",
      "\n",
      "\u001b[36mℹ\u001b[39m Use `spec()` to retrieve the full column specification for this data.\n",
      "\u001b[36mℹ\u001b[39m Specify the column types or set `show_col_types = FALSE` to quiet this message.\n"
     ]
    }
   ],
   "source": [
    "read_csv_week <- function(file_name) {\n",
    "    message(file_name)\n",
    "    \n",
    "  readr::read_csv(file_name) %>%\n",
    "    dplyr::mutate(week = str_extract(file_name, '\\\\d')) %>% \n",
    "    dplyr::mutate(\n",
    "        x = ifelse(playDirection == 'left', 120-x, x),\n",
    "        y = ifelse(playDirection == 'left', 160/3 - y, y),\n",
    "        o = ifelse(playDirection == 'left', abs(o - 180), o), \n",
    "        dir = ifelse(playDirection == 'left', abs(dir - 180), dir),\n",
    "        x_end = s*cos((90 - dir)*pi / 180) + x,\n",
    "        y_end = s*sin((90 - dir)*pi / 180) + y,\n",
    "    ) %>%\n",
    "    group_by(gameId, playId) %>%\n",
    "    dplyr::mutate(\n",
    "        x_start = min(ifelse(club == 'football' & frameId == 1, x, NA), na.rm = TRUE)\n",
    "    ) %>% \n",
    "    dplyr::ungroup() %>%\n",
    "    dplyr::mutate(x = x - x_start) %>%\n",
    "    dplyr::group_by(gameId, playId, frameId) %>%\n",
    "    mutate(\n",
    "        x_ball = min(if_else(club == 'football', x, NA), na.rm = TRUE),\n",
    "        y_ball = min(if_else(club == 'football', y, NA), na.rm = TRUE),\n",
    "    ) %>%\n",
    "    dplyr::ungroup() %>%\n",
    "    dplyr::mutate(\n",
    "        dist_from_ball = sqrt( ((x - x_ball) ** 2) + ((y - y_ball) ** 2) )\n",
    "    ) %>%\n",
    "    janitor::clean_names()\n",
    "}\n",
    "\n",
    "project_dir <- '/kaggle/input/nfl-big-data-bowl-2024'\n",
    "\n",
    "df_tracking <- paste0(project_dir, '/', list.files(path = project_dir, pattern = \"tracking*\")) %>% \n",
    "  map_dfr(read_csv_week)"
   ]
  },
  {
   "cell_type": "code",
   "execution_count": 4,
   "id": "a8495c87",
   "metadata": {
    "execution": {
     "iopub.execute_input": "2023-12-28T07:20:37.351633Z",
     "iopub.status.busy": "2023-12-28T07:20:37.349969Z",
     "iopub.status.idle": "2023-12-28T07:21:16.499204Z",
     "shell.execute_reply": "2023-12-28T07:21:16.497144Z"
    },
    "papermill": {
     "duration": 39.168706,
     "end_time": "2023-12-28T07:21:16.506181",
     "exception": false,
     "start_time": "2023-12-28T07:20:37.337475",
     "status": "completed"
    },
    "tags": []
   },
   "outputs": [
    {
     "name": "stderr",
     "output_type": "stream",
     "text": [
      "Table Updated\n",
      "\n"
     ]
    }
   ],
   "source": [
    "con <- dbConnect(duckdb(), dbdir = '/kaggle/working/bdb.duckdb')\n",
    "dbWriteTable(con, \"tracking\", df_tracking, overwrite = TRUE)\n",
    "message(\"Table Updated\")"
   ]
  },
  {
   "cell_type": "code",
   "execution_count": 5,
   "id": "d0650de4",
   "metadata": {
    "execution": {
     "iopub.execute_input": "2023-12-28T07:21:16.524097Z",
     "iopub.status.busy": "2023-12-28T07:21:16.522291Z",
     "iopub.status.idle": "2023-12-28T07:21:17.472131Z",
     "shell.execute_reply": "2023-12-28T07:21:17.468844Z"
    },
    "papermill": {
     "duration": 0.962451,
     "end_time": "2023-12-28T07:21:17.475264",
     "exception": false,
     "start_time": "2023-12-28T07:21:16.512813",
     "status": "completed"
    },
    "tags": []
   },
   "outputs": [
    {
     "name": "stderr",
     "output_type": "stream",
     "text": [
      "\u001b[1mRows: \u001b[22m\u001b[34m1683\u001b[39m \u001b[1mColumns: \u001b[22m\u001b[34m7\u001b[39m\n",
      "\u001b[36m──\u001b[39m \u001b[1mColumn specification\u001b[22m \u001b[36m────────────────────────────────────────────────────────\u001b[39m\n",
      "\u001b[1mDelimiter:\u001b[22m \",\"\n",
      "\u001b[31mchr\u001b[39m (5): height, birthDate, collegeName, position, displayName\n",
      "\u001b[32mdbl\u001b[39m (2): nflId, weight\n",
      "\n",
      "\u001b[36mℹ\u001b[39m Use `spec()` to retrieve the full column specification for this data.\n",
      "\u001b[36mℹ\u001b[39m Specify the column types or set `show_col_types = FALSE` to quiet this message.\n",
      "\u001b[1mRows: \u001b[22m\u001b[34m136\u001b[39m \u001b[1mColumns: \u001b[22m\u001b[34m9\u001b[39m\n",
      "\u001b[36m──\u001b[39m \u001b[1mColumn specification\u001b[22m \u001b[36m────────────────────────────────────────────────────────\u001b[39m\n",
      "\u001b[1mDelimiter:\u001b[22m \",\"\n",
      "\u001b[31mchr\u001b[39m  (3): gameDate, homeTeamAbbr, visitorTeamAbbr\n",
      "\u001b[32mdbl\u001b[39m  (5): gameId, season, week, homeFinalScore, visitorFinalScore\n",
      "\u001b[34mtime\u001b[39m (1): gameTimeEastern\n",
      "\n",
      "\u001b[36mℹ\u001b[39m Use `spec()` to retrieve the full column specification for this data.\n",
      "\u001b[36mℹ\u001b[39m Specify the column types or set `show_col_types = FALSE` to quiet this message.\n",
      "\u001b[1mRows: \u001b[22m\u001b[34m12486\u001b[39m \u001b[1mColumns: \u001b[22m\u001b[34m35\u001b[39m\n",
      "\u001b[36m──\u001b[39m \u001b[1mColumn specification\u001b[22m \u001b[36m────────────────────────────────────────────────────────\u001b[39m\n",
      "\u001b[1mDelimiter:\u001b[22m \",\"\n",
      "\u001b[31mchr\u001b[39m  (10): ballCarrierDisplayName, playDescription, possessionTeam, defensiv...\n",
      "\u001b[32mdbl\u001b[39m  (24): gameId, playId, ballCarrierId, quarter, down, yardsToGo, yardline...\n",
      "\u001b[34mtime\u001b[39m  (1): gameClock\n",
      "\n",
      "\u001b[36mℹ\u001b[39m Use `spec()` to retrieve the full column specification for this data.\n",
      "\u001b[36mℹ\u001b[39m Specify the column types or set `show_col_types = FALSE` to quiet this message.\n",
      "\u001b[1mRows: \u001b[22m\u001b[34m17426\u001b[39m \u001b[1mColumns: \u001b[22m\u001b[34m7\u001b[39m\n",
      "\u001b[36m──\u001b[39m \u001b[1mColumn specification\u001b[22m \u001b[36m────────────────────────────────────────────────────────\u001b[39m\n",
      "\u001b[1mDelimiter:\u001b[22m \",\"\n",
      "\u001b[32mdbl\u001b[39m (7): gameId, playId, nflId, tackle, assist, forcedFumble, pff_missedTackle\n",
      "\n",
      "\u001b[36mℹ\u001b[39m Use `spec()` to retrieve the full column specification for this data.\n",
      "\u001b[36mℹ\u001b[39m Specify the column types or set `show_col_types = FALSE` to quiet this message.\n"
     ]
    }
   ],
   "source": [
    "players <- read_csv('/kaggle/input/nfl-big-data-bowl-2024/players.csv') %>% janitor::clean_names()\n",
    "games <- read_csv('/kaggle/input/nfl-big-data-bowl-2024/games.csv') %>% janitor::clean_names()\n",
    "plays <- read_csv('/kaggle/input/nfl-big-data-bowl-2024/plays.csv') %>% janitor::clean_names()\n",
    "tackles <- read_csv('/kaggle/input/nfl-big-data-bowl-2024/tackles.csv') %>% janitor::clean_names()\n",
    "\n",
    "dbWriteTable(con, \"players\", players, overwrite = TRUE)\n",
    "dbWriteTable(con, \"games\", games, overwrite = TRUE)\n",
    "dbWriteTable(con, \"plays\", plays, overwrite = TRUE)\n",
    "dbWriteTable(con, \"tackles\", tackles, overwrite = TRUE)"
   ]
  },
  {
   "cell_type": "code",
   "execution_count": 6,
   "id": "fb8d17b3",
   "metadata": {
    "execution": {
     "iopub.execute_input": "2023-12-28T07:21:17.495079Z",
     "iopub.status.busy": "2023-12-28T07:21:17.493403Z",
     "iopub.status.idle": "2023-12-28T07:21:17.511250Z",
     "shell.execute_reply": "2023-12-28T07:21:17.509334Z"
    },
    "papermill": {
     "duration": 0.030778,
     "end_time": "2023-12-28T07:21:17.514059",
     "exception": false,
     "start_time": "2023-12-28T07:21:17.483281",
     "status": "completed"
    },
    "tags": []
   },
   "outputs": [],
   "source": [
    "dbDisconnect(con)"
   ]
  }
 ],
 "metadata": {
  "kaggle": {
   "accelerator": "none",
   "dataSources": [
    {
     "databundleVersionId": 6654553,
     "sourceId": 60305,
     "sourceType": "competition"
    }
   ],
   "dockerImageVersionId": 30618,
   "isGpuEnabled": false,
   "isInternetEnabled": true,
   "language": "r",
   "sourceType": "notebook"
  },
  "kernelspec": {
   "display_name": "R",
   "language": "R",
   "name": "ir"
  },
  "language_info": {
   "codemirror_mode": "r",
   "file_extension": ".r",
   "mimetype": "text/x-r-source",
   "name": "R",
   "pygments_lexer": "r",
   "version": "4.0.5"
  },
  "papermill": {
   "default_parameters": {},
   "duration": 281.172287,
   "end_time": "2023-12-28T07:21:18.147257",
   "environment_variables": {},
   "exception": null,
   "input_path": "__notebook__.ipynb",
   "output_path": "__notebook__.ipynb",
   "parameters": {},
   "start_time": "2023-12-28T07:16:36.974970",
   "version": "2.5.0"
  }
 },
 "nbformat": 4,
 "nbformat_minor": 5
}
